{
 "cells": [
  {
   "cell_type": "code",
   "execution_count": 1,
   "metadata": {},
   "outputs": [],
   "source": [
    "import pandas as pd\n",
    "import numpy as np\n",
    "import statsmodels.api as sm\n",
    "from sklearn.model_selection import train_test_split\n",
    "from sklearn.ensemble import GradientBoostingClassifier\n",
    "from sklearn.model_selection import GridSearchCV"
   ]
  },
  {
   "cell_type": "code",
   "execution_count": 2,
   "metadata": {},
   "outputs": [],
   "source": [
    "import pandas as pd\n",
    "import numpy as np\n",
    "import statsmodels.api as sm\n",
    "from sklearn.model_selection import train_test_split\n",
    "from sklearn.svm import SVC"
   ]
  },
  {
   "cell_type": "code",
   "execution_count": 3,
   "metadata": {},
   "outputs": [],
   "source": [
    "df = pd.read_csv('548Var_FinalDF.csv')"
   ]
  },
  {
   "cell_type": "code",
   "execution_count": 4,
   "metadata": {},
   "outputs": [
    {
     "data": {
      "text/plain": [
       "1000000"
      ]
     },
     "execution_count": 4,
     "metadata": {},
     "output_type": "execute_result"
    }
   ],
   "source": [
    "len(df)"
   ]
  },
  {
   "cell_type": "code",
   "execution_count": 5,
   "metadata": {},
   "outputs": [],
   "source": [
    "df = df.set_index('record')"
   ]
  },
  {
   "cell_type": "code",
   "execution_count": 6,
   "metadata": {},
   "outputs": [],
   "source": [
    "## exclude out last 2 month\n",
    "mydata = df.iloc[:833507]\n",
    "# exclude first 2 weeks\n",
    "mydata = mydata.iloc[38511:]\n",
    "# Segment the data\n",
    "OOT = df.iloc[833507:]"
   ]
  },
  {
   "cell_type": "code",
   "execution_count": 311,
   "metadata": {},
   "outputs": [],
   "source": [
    "top_30 = ['address_zip5_0_count30_count_ratio',\n",
    " 'address_count3_date',\n",
    " 'address_zip5_0_count180_count_ratio',\n",
    " 'address_0_count7_count_ratio',\n",
    " 'homephone_address_count30_date',\n",
    " 'address_zip5_0_count3_count_ratio',\n",
    " 'homephone_address_pastday',\n",
    " 'homephone_address_zip5_count90_date',\n",
    " 'ssn_dob_count90_date',\n",
    " 'address_1_count90_count_ratio',\n",
    " 'ssn_dob_0_count30_count_ratio',\n",
    " 'firstname_lastname_dob_0_count30_count_ratio',\n",
    " 'ssn_0_count30_count_ratio',\n",
    " 'ssn_firstname_lastname_dob_0_count30_count_ratio',\n",
    " 'ssn_firstname_0_count30_count_ratio',\n",
    " 'address_zip5_1_count90_count_ratio',\n",
    " 'ssn_firstname_count7_date',\n",
    " 'address_count0_date',\n",
    " 'homephone_address_0_count180_count_ratio',\n",
    " 'address_zip5_1_count7_count_ratio',\n",
    " 'firstname_lastname_dob_0_count7_count_ratio',\n",
    " 'ssn_dob_1_count30_count_ratio',\n",
    " 'homephone_zip_count1_date',\n",
    " 'ssn_firstname_1_count180_count_ratio',\n",
    " 'homephone_address_zip5_1_count7_count_ratio',\n",
    " 'homephone_count180_date',\n",
    " 'address_firstname_lastname_dob_count30_date',\n",
    " 'zip5_firstname_lastname_dob_count30_date',\n",
    " 'homephone_firstname_lastname_count30_date',\n",
    " 'zip5_firstname_lastname_dob_0_count30_count_ratio',\n",
    " 'fraud_label']"
   ]
  },
  {
   "cell_type": "code",
   "execution_count": 312,
   "metadata": {},
   "outputs": [
    {
     "data": {
      "text/plain": [
       "31"
      ]
     },
     "execution_count": 312,
     "metadata": {},
     "output_type": "execute_result"
    }
   ],
   "source": [
    "len(top_30)"
   ]
  },
  {
   "cell_type": "code",
   "execution_count": 313,
   "metadata": {},
   "outputs": [],
   "source": [
    "final_df = mydata[top_30]\n",
    "final_OOT = OOT[top_30]"
   ]
  },
  {
   "cell_type": "code",
   "execution_count": 314,
   "metadata": {},
   "outputs": [],
   "source": [
    "X = final_df.drop('fraud_label',axis = 1)\n",
    "y = final_df['fraud_label']"
   ]
  },
  {
   "cell_type": "code",
   "execution_count": 315,
   "metadata": {},
   "outputs": [],
   "source": [
    "X_train,X_test,y_train,y_test = train_test_split (X,y,test_size = 0.25, random_state = 33)"
   ]
  },
  {
   "cell_type": "code",
   "execution_count": 316,
   "metadata": {},
   "outputs": [],
   "source": [
    "final_OOT_X = final_OOT.drop('fraud_label',axis = 1)\n",
    "final_OOT_y = final_OOT['fraud_label']"
   ]
  },
  {
   "cell_type": "code",
   "execution_count": 317,
   "metadata": {},
   "outputs": [],
   "source": [
    "from sklearn.svm import LinearSVC"
   ]
  },
  {
   "cell_type": "code",
   "execution_count": 318,
   "metadata": {},
   "outputs": [],
   "source": [
    "top_20 = top_30[0:20]\n",
    "top_20.append('fraud_label')"
   ]
  },
  {
   "cell_type": "code",
   "execution_count": 319,
   "metadata": {},
   "outputs": [],
   "source": [
    "final_df1 = mydata[top_20]\n",
    "final_OOT1 = OOT[top_20]"
   ]
  },
  {
   "cell_type": "code",
   "execution_count": 320,
   "metadata": {},
   "outputs": [],
   "source": [
    "X1 = final_df1.drop('fraud_label',axis = 1)\n",
    "y1 = final_df1['fraud_label']"
   ]
  },
  {
   "cell_type": "code",
   "execution_count": 321,
   "metadata": {},
   "outputs": [],
   "source": [
    "X_train1,X_test1,y_train1,y_test1 = train_test_split (X1,y1,test_size = 0.25, random_state = 33)"
   ]
  },
  {
   "cell_type": "code",
   "execution_count": 322,
   "metadata": {},
   "outputs": [],
   "source": [
    "final_OOT1_x = final_OOT1.drop('fraud_label',axis = 1)\n",
    "final_OOT1_y = final_OOT1['fraud_label']"
   ]
  },
  {
   "cell_type": "code",
   "execution_count": 18,
   "metadata": {},
   "outputs": [],
   "source": [
    "from sklearn.linear_model import LogisticRegression"
   ]
  },
  {
   "cell_type": "code",
   "execution_count": 19,
   "metadata": {},
   "outputs": [],
   "source": [
    "from sklearn.ensemble import RandomForestClassifier"
   ]
  },
  {
   "cell_type": "markdown",
   "metadata": {},
   "source": [
    "# Logistic Model"
   ]
  },
  {
   "cell_type": "code",
   "execution_count": 323,
   "metadata": {},
   "outputs": [
    {
     "data": {
      "text/plain": [
       "LogisticRegression(C=1, class_weight=None, dual=False, fit_intercept=True,\n",
       "                   intercept_scaling=1, l1_ratio=None, max_iter=100,\n",
       "                   multi_class='auto', n_jobs=None, penalty='l1',\n",
       "                   random_state=None, solver='liblinear', tol=0.0001, verbose=0,\n",
       "                   warm_start=False)"
      ]
     },
     "execution_count": 323,
     "metadata": {},
     "output_type": "execute_result"
    }
   ],
   "source": [
    "lr = LogisticRegression(C= 1, penalty='l1',solver='liblinear',random_state=None)\n",
    "lr.fit(X_train,y_train)"
   ]
  },
  {
   "cell_type": "code",
   "execution_count": 324,
   "metadata": {},
   "outputs": [
    {
     "data": {
      "text/plain": [
       "11"
      ]
     },
     "execution_count": 324,
     "metadata": {},
     "output_type": "execute_result"
    }
   ],
   "source": [
    "np.sum(lr.coef_ == 0)"
   ]
  },
  {
   "cell_type": "code",
   "execution_count": 329,
   "metadata": {},
   "outputs": [],
   "source": [
    "lm1 = list(pd.DataFrame(lr.predict_proba(X_train))[1])\n",
    "lm2 = list(pd.DataFrame(lr.predict_proba(X_test))[1])\n",
    "lm3 = list(pd.DataFrame(lr.predict_proba(final_OOT_X))[1])"
   ]
  },
  {
   "cell_type": "markdown",
   "metadata": {},
   "source": [
    "# Random Forest Model"
   ]
  },
  {
   "cell_type": "code",
   "execution_count": 335,
   "metadata": {},
   "outputs": [
    {
     "data": {
      "text/plain": [
       "RandomForestClassifier(bootstrap=True, ccp_alpha=0.0, class_weight=None,\n",
       "                       criterion='gini', max_depth=15, max_features=7,\n",
       "                       max_leaf_nodes=None, max_samples=None,\n",
       "                       min_impurity_decrease=0.0, min_impurity_split=None,\n",
       "                       min_samples_leaf=8, min_samples_split=2,\n",
       "                       min_weight_fraction_leaf=0.0, n_estimators=700,\n",
       "                       n_jobs=None, oob_score=False, random_state=None,\n",
       "                       verbose=0, warm_start=False)"
      ]
     },
     "execution_count": 335,
     "metadata": {},
     "output_type": "execute_result"
    }
   ],
   "source": [
    "clf=RandomForestClassifier(n_estimators=700,min_samples_leaf= 8,max_depth=15, max_features=7)\n",
    "clf.fit(X_train,y_train)"
   ]
  },
  {
   "cell_type": "code",
   "execution_count": 340,
   "metadata": {},
   "outputs": [],
   "source": [
    "rf1 = list(pd.DataFrame(clf.predict_proba(X_train))[1])\n",
    "rf2 = list(pd.DataFrame(clf.predict_proba(X_test))[1])\n",
    "rf3 = list(pd.DataFrame(clf.predict_proba(final_OOT_X))[1])"
   ]
  },
  {
   "cell_type": "code",
   "execution_count": null,
   "metadata": {},
   "outputs": [],
   "source": []
  },
  {
   "cell_type": "code",
   "execution_count": null,
   "metadata": {},
   "outputs": [],
   "source": []
  },
  {
   "cell_type": "markdown",
   "metadata": {},
   "source": [
    "# Linear SVC"
   ]
  },
  {
   "cell_type": "code",
   "execution_count": 131,
   "metadata": {},
   "outputs": [],
   "source": [
    "from sklearn.calibration import CalibratedClassifierCV"
   ]
  },
  {
   "cell_type": "code",
   "execution_count": 347,
   "metadata": {},
   "outputs": [
    {
     "data": {
      "text/plain": [
       "CalibratedClassifierCV(base_estimator=LinearSVC(C=0.01, class_weight=None,\n",
       "                                                dual=False, fit_intercept=True,\n",
       "                                                intercept_scaling=1,\n",
       "                                                loss='squared_hinge',\n",
       "                                                max_iter=1000,\n",
       "                                                multi_class='ovr', penalty='l2',\n",
       "                                                random_state=None, tol=0.0001,\n",
       "                                                verbose=0),\n",
       "                       cv=None, method='sigmoid')"
      ]
     },
     "execution_count": 347,
     "metadata": {},
     "output_type": "execute_result"
    }
   ],
   "source": [
    "lsvc = CalibratedClassifierCV(base_estimator=LinearSVC(penalty='l2',C = 0.01, dual=False))\n",
    "lsvc.fit(X_train,y_train)"
   ]
  },
  {
   "cell_type": "code",
   "execution_count": 348,
   "metadata": {},
   "outputs": [],
   "source": [
    "lsvc1 = list(pd.DataFrame(lsvc.predict_proba(X_train))[1])\n",
    "lsvc2 = list(pd.DataFrame(lsvc.predict_proba(X_test))[1])\n",
    "lsvc3 = list(pd.DataFrame(lsvc.predict_proba(final_OOT_X))[1])"
   ]
  },
  {
   "cell_type": "code",
   "execution_count": null,
   "metadata": {},
   "outputs": [],
   "source": []
  },
  {
   "cell_type": "code",
   "execution_count": null,
   "metadata": {},
   "outputs": [],
   "source": []
  },
  {
   "cell_type": "markdown",
   "metadata": {},
   "source": [
    "# Boosted Tree"
   ]
  },
  {
   "cell_type": "code",
   "execution_count": 349,
   "metadata": {},
   "outputs": [
    {
     "data": {
      "text/plain": [
       "GradientBoostingClassifier(ccp_alpha=0.0, criterion='friedman_mse', init=None,\n",
       "                           learning_rate=0.1, loss='deviance', max_depth=3,\n",
       "                           max_features=None, max_leaf_nodes=None,\n",
       "                           min_impurity_decrease=0.0, min_impurity_split=None,\n",
       "                           min_samples_leaf=1, min_samples_split=2,\n",
       "                           min_weight_fraction_leaf=0.0, n_estimators=1500,\n",
       "                           n_iter_no_change=None, presort='deprecated',\n",
       "                           random_state=None, subsample=1.0, tol=0.0001,\n",
       "                           validation_fraction=0.1, verbose=0,\n",
       "                           warm_start=False)"
      ]
     },
     "execution_count": 349,
     "metadata": {},
     "output_type": "execute_result"
    }
   ],
   "source": [
    "gbc = GradientBoostingClassifier(learning_rate = 0.1,max_depth =3,n_estimators=1500)\n",
    "gbc.fit(X_train, y_train)"
   ]
  },
  {
   "cell_type": "code",
   "execution_count": 354,
   "metadata": {},
   "outputs": [],
   "source": [
    "gbc1 = list(pd.DataFrame(gbc.predict_proba(X_train))[1])\n",
    "gbc2 = list(pd.DataFrame(gbc.predict_proba(X_test))[1])\n",
    "gbc3 = list(pd.DataFrame(gbc.predict_proba(final_OOT_X))[1])"
   ]
  },
  {
   "cell_type": "code",
   "execution_count": null,
   "metadata": {},
   "outputs": [],
   "source": []
  },
  {
   "cell_type": "markdown",
   "metadata": {},
   "source": [
    "# NN"
   ]
  },
  {
   "cell_type": "code",
   "execution_count": 378,
   "metadata": {},
   "outputs": [],
   "source": [
    "NN1 = list(pd.read_csv('NN_train.csv')['0'])\n",
    "NN2 = list(pd.read_csv('NN_test.csv')['0'])\n",
    "NN3 = list(pd.read_csv('NN_oot.csv')['0'])"
   ]
  },
  {
   "cell_type": "markdown",
   "metadata": {},
   "source": [
    "# Ensemble"
   ]
  },
  {
   "cell_type": "code",
   "execution_count": 405,
   "metadata": {},
   "outputs": [],
   "source": [
    "l1 = list(np.array([rf1,gbc1]).mean(axis = 0))\n",
    "l2 = list(np.array([rf2,gbc2]).mean(axis = 0))\n",
    "l3 = list(np.array([rf3,gbc3]).mean(axis = 0))"
   ]
  },
  {
   "cell_type": "code",
   "execution_count": 419,
   "metadata": {},
   "outputs": [
    {
     "data": {
      "text/plain": [
       "166493"
      ]
     },
     "execution_count": 419,
     "metadata": {},
     "output_type": "execute_result"
    }
   ],
   "source": [
    "len(l3)"
   ]
  },
  {
   "cell_type": "code",
   "execution_count": 420,
   "metadata": {},
   "outputs": [
    {
     "data": {
      "text/plain": [
       "2386"
      ]
     },
     "execution_count": 420,
     "metadata": {},
     "output_type": "execute_result"
    }
   ],
   "source": [
    "sum(final_OOT_y)"
   ]
  },
  {
   "cell_type": "code",
   "execution_count": 421,
   "metadata": {},
   "outputs": [
    {
     "data": {
      "text/plain": [
       "164107"
      ]
     },
     "execution_count": 421,
     "metadata": {},
     "output_type": "execute_result"
    }
   ],
   "source": [
    "len(l3) - sum(final_OOT_y)"
   ]
  },
  {
   "cell_type": "code",
   "execution_count": null,
   "metadata": {},
   "outputs": [],
   "source": []
  },
  {
   "cell_type": "code",
   "execution_count": null,
   "metadata": {},
   "outputs": [],
   "source": []
  },
  {
   "cell_type": "code",
   "execution_count": 406,
   "metadata": {},
   "outputs": [
    {
     "data": {
      "text/plain": [
       "0.559403054681124"
      ]
     },
     "execution_count": 406,
     "metadata": {},
     "output_type": "execute_result"
    }
   ],
   "source": [
    "# train\n",
    "tr = pd.DataFrame(list(zip(l1,y_train)), columns=['predicted','fraud'])\n",
    "tr = tr.sort_values(by = ['predicted'],ascending = False)\n",
    "sum(list(tr[:int(np.floor(0.03*len(tr)))].fraud))/sum(list(y_train))"
   ]
  },
  {
   "cell_type": "code",
   "execution_count": 407,
   "metadata": {},
   "outputs": [
    {
     "data": {
      "text/plain": [
       "0.5431419731866621"
      ]
     },
     "execution_count": 407,
     "metadata": {},
     "output_type": "execute_result"
    }
   ],
   "source": [
    "# test\n",
    "te = pd.DataFrame(list(zip(l2,y_test)), columns=['predicted','fraud'])\n",
    "te = te.sort_values(by = ['predicted'],ascending = False)\n",
    "sum(list(te[:int(np.floor(0.03*len(te)))].fraud))/sum(list(y_test))"
   ]
  },
  {
   "cell_type": "code",
   "execution_count": 408,
   "metadata": {},
   "outputs": [
    {
     "data": {
      "text/plain": [
       "0.5146689019279128"
      ]
     },
     "execution_count": 408,
     "metadata": {},
     "output_type": "execute_result"
    }
   ],
   "source": [
    "# OOT\n",
    "# test\n",
    "oo = pd.DataFrame(list(zip(l3,final_OOT_y)), columns=['predicted','fraud'])\n",
    "oo = oo.sort_values(by = ['predicted'],ascending = False)\n",
    "sum(list(oo[:int(np.floor(0.03*len(oo)))].fraud))/sum(list(final_OOT_y))"
   ]
  },
  {
   "cell_type": "code",
   "execution_count": 422,
   "metadata": {},
   "outputs": [],
   "source": [
    "# train \n",
    "train_final = X_train.copy()\n",
    "test_final = X_test.copy()\n",
    "OOT_final = final_OOT1_x.copy()"
   ]
  },
  {
   "cell_type": "code",
   "execution_count": 423,
   "metadata": {},
   "outputs": [],
   "source": [
    "train_final['fraud_label'] = list(y_train)\n",
    "test_final['fraud_label'] = list(y_test)\n",
    "OOT_final['fraud_label'] = list(final_OOT_y)\n",
    "# not sorted prediction \n",
    "train_final['pred'] = gbc1\n",
    "test_final['pred'] = gbc2\n",
    "OOT_final['pred'] = gbc3"
   ]
  },
  {
   "cell_type": "code",
   "execution_count": 424,
   "metadata": {},
   "outputs": [],
   "source": [
    "train_final = train_final.sort_values(by = ['pred'],ascending = False)\n",
    "test_final = test_final.sort_values(by = ['pred'],ascending = False)\n",
    "OOT_final = OOT_final.sort_values(by = ['pred'],ascending = False)"
   ]
  },
  {
   "cell_type": "code",
   "execution_count": 425,
   "metadata": {},
   "outputs": [],
   "source": [
    "count = 0\n",
    "for dataset in [train_final,test_final,OOT_final]:\n",
    "    \n",
    "    start = 0\n",
    "    bin_num = int(np.floor(len(dataset)*0.01 + 1))\n",
    "    rec, good, bad, pgood, pbad, crec, cgood, cbad, pcgood, pcbad, ks, fpr = [],[],[],[],[],[],[],[],[],[],[],[]\n",
    "    \n",
    "    \n",
    "\n",
    "    for i in range(1,21):\n",
    "        # seperate_bin \n",
    "        num_bads = sum(dataset.iloc[start:bin_num*i].fraud_label)\n",
    "        num_goods = len(dataset.iloc[start:bin_num*i].fraud_label) - sum(dataset.iloc[start:bin_num*i].fraud_label)\n",
    "        per_goods = num_goods/len(dataset.iloc[start:bin_num*i].fraud_label)\n",
    "        per_bads = num_bads/len(dataset.iloc[start:bin_num*i].fraud_label)\n",
    "\n",
    "        rec.append(bin_num)\n",
    "        good.append(num_goods)\n",
    "        bad.append(num_bads)\n",
    "        pgood.append(per_goods)\n",
    "        pbad.append(per_bads)\n",
    "\n",
    "        start += bin_num\n",
    "\n",
    "\n",
    "        # cumulative_bin\n",
    "        cum_records = bin_num*i\n",
    "        cum_bads = sum(dataset.iloc[:cum_records].fraud_label)\n",
    "        cum_goods = len(dataset.iloc[:cum_records].fraud_label) - sum(dataset.iloc[:cum_records].fraud_label)\n",
    "        cum_per_goods = cum_goods/len(dataset[dataset.fraud_label == 0])\n",
    "        FDR_cum_per_bads = cum_bads/len(dataset[dataset.fraud_label == 1])\n",
    "        KS = FDR_cum_per_bads - cum_per_goods\n",
    "        FPR = cum_goods/cum_bads\n",
    "\n",
    "        crec.append(cum_records)\n",
    "        cgood.append(cum_goods)\n",
    "        cbad.append(cum_bads)\n",
    "        pcgood.append(cum_per_goods)\n",
    "        pcbad.append(FDR_cum_per_bads)\n",
    "        ks.append(KS)\n",
    "        fpr.append(FPR)\n",
    "    \n",
    "    temp = pd.DataFrame([rec, good, bad, pgood, pbad,crec, cgood, cbad, pcgood, pcbad, ks, fpr]).transpose()\n",
    "    temp.to_excel('df' + str(count) + '.xlsx')\n",
    "    count+=1\n"
   ]
  },
  {
   "cell_type": "code",
   "execution_count": null,
   "metadata": {},
   "outputs": [],
   "source": []
  },
  {
   "cell_type": "code",
   "execution_count": null,
   "metadata": {},
   "outputs": [],
   "source": []
  },
  {
   "cell_type": "code",
   "execution_count": null,
   "metadata": {},
   "outputs": [],
   "source": []
  },
  {
   "cell_type": "code",
   "execution_count": null,
   "metadata": {},
   "outputs": [],
   "source": []
  },
  {
   "cell_type": "markdown",
   "metadata": {},
   "source": [
    "# for 30"
   ]
  },
  {
   "cell_type": "code",
   "execution_count": 350,
   "metadata": {},
   "outputs": [],
   "source": [
    "l1 = list(pd.DataFrame(gbc.predict_proba(X_train))[1])\n",
    "l2 = list(pd.DataFrame(gbc.predict_proba(X_test))[1])\n",
    "l3 = list(pd.DataFrame(gbc.predict_proba(final_OOT_X))[1])"
   ]
  },
  {
   "cell_type": "code",
   "execution_count": 351,
   "metadata": {},
   "outputs": [
    {
     "data": {
      "text/plain": [
       "0.5597528273289029"
      ]
     },
     "execution_count": 351,
     "metadata": {},
     "output_type": "execute_result"
    }
   ],
   "source": [
    "# train\n",
    "tr = pd.DataFrame(list(zip(l1,y_train)), columns=['predicted','fraud'])\n",
    "tr = tr.sort_values(by = ['predicted'],ascending = False)\n",
    "sum(list(tr[:int(np.floor(0.03*len(tr)))].fraud))/sum(list(y_train))"
   ]
  },
  {
   "cell_type": "code",
   "execution_count": 352,
   "metadata": {},
   "outputs": [
    {
     "data": {
      "text/plain": [
       "0.5427982124441388"
      ]
     },
     "execution_count": 352,
     "metadata": {},
     "output_type": "execute_result"
    }
   ],
   "source": [
    "# test\n",
    "te = pd.DataFrame(list(zip(l2,y_test)), columns=['predicted','fraud'])\n",
    "te = te.sort_values(by = ['predicted'],ascending = False)\n",
    "sum(list(te[:int(np.floor(0.03*len(te)))].fraud))/sum(list(y_test))"
   ]
  },
  {
   "cell_type": "code",
   "execution_count": 353,
   "metadata": {},
   "outputs": [
    {
     "data": {
      "text/plain": [
       "0.5150880134115675"
      ]
     },
     "execution_count": 353,
     "metadata": {},
     "output_type": "execute_result"
    }
   ],
   "source": [
    "# OOT\n",
    "# test\n",
    "oo = pd.DataFrame(list(zip(l3,final_OOT_y)), columns=['predicted','fraud'])\n",
    "oo = oo.sort_values(by = ['predicted'],ascending = False)\n",
    "sum(list(oo[:int(np.floor(0.03*len(oo)))].fraud))/sum(list(final_OOT_y))"
   ]
  },
  {
   "cell_type": "markdown",
   "metadata": {},
   "source": [
    "# for 20"
   ]
  },
  {
   "cell_type": "code",
   "execution_count": 252,
   "metadata": {},
   "outputs": [],
   "source": [
    "l1 = list(pd.DataFrame(lr.predict_proba(X_train1))[1])\n",
    "l2 = list(pd.DataFrame(lr.predict_proba(X_test1))[1])\n",
    "l3 = list(pd.DataFrame(lr.predict_proba(final_OOT1_x))[1])"
   ]
  },
  {
   "cell_type": "code",
   "execution_count": 253,
   "metadata": {},
   "outputs": [
    {
     "data": {
      "text/plain": [
       "0.5138160195872683"
      ]
     },
     "execution_count": 253,
     "metadata": {},
     "output_type": "execute_result"
    }
   ],
   "source": [
    "# train\n",
    "tr = pd.DataFrame(list(zip(l1,y_train1)), columns=['predicted','fraud'])\n",
    "tr = tr.sort_values(by = ['predicted'],ascending = False)\n",
    "sum(list(tr[:int(np.floor(0.03*len(tr)))].fraud))/sum(list(y_train1))"
   ]
  },
  {
   "cell_type": "code",
   "execution_count": 254,
   "metadata": {},
   "outputs": [
    {
     "data": {
      "text/plain": [
       "0.5063595737366793"
      ]
     },
     "execution_count": 254,
     "metadata": {},
     "output_type": "execute_result"
    }
   ],
   "source": [
    "# test\n",
    "te = pd.DataFrame(list(zip(l2,y_test1)), columns=['predicted','fraud'])\n",
    "te = te.sort_values(by = ['predicted'],ascending = False)\n",
    "sum(list(te[:int(np.floor(0.03*len(te)))].fraud))/sum(list(y_test1))"
   ]
  },
  {
   "cell_type": "code",
   "execution_count": 255,
   "metadata": {},
   "outputs": [
    {
     "data": {
      "text/plain": [
       "0.490360435875943"
      ]
     },
     "execution_count": 255,
     "metadata": {},
     "output_type": "execute_result"
    }
   ],
   "source": [
    "# OOT\n",
    "oo = pd.DataFrame(list(zip(l3,final_OOT1_y)), columns=['predicted','fraud'])\n",
    "oo = oo.sort_values(by = ['predicted'],ascending = False)\n",
    "sum(list(oo[:int(np.floor(0.03*len(oo)))].fraud))/sum(list(final_OOT1_y))"
   ]
  },
  {
   "cell_type": "code",
   "execution_count": null,
   "metadata": {},
   "outputs": [],
   "source": []
  },
  {
   "cell_type": "code",
   "execution_count": null,
   "metadata": {},
   "outputs": [],
   "source": []
  }
 ],
 "metadata": {
  "kernelspec": {
   "display_name": "Python 3",
   "language": "python",
   "name": "python3"
  },
  "language_info": {
   "codemirror_mode": {
    "name": "ipython",
    "version": 3
   },
   "file_extension": ".py",
   "mimetype": "text/x-python",
   "name": "python",
   "nbconvert_exporter": "python",
   "pygments_lexer": "ipython3",
   "version": "3.7.4"
  }
 },
 "nbformat": 4,
 "nbformat_minor": 4
}
